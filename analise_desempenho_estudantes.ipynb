{
 "cells": [
  {
   "cell_type": "markdown",
   "metadata": {},
   "source": [
    "Importando as bibliotecas necessárias para análise de dados e visualização"
   ]
  },
  {
   "cell_type": "markdown",
   "metadata": {},
   "source": [
    "Configurando o estilo dos gráficos para melhor visualização"
   ]
  },
  {
   "cell_type": "markdown",
   "metadata": {},
   "source": [
    "Carregando o dataset"
   ]
  },
  {
   "cell_type": "markdown",
   "metadata": {},
   "source": [
    "Carregando o arquivo CSV com os dados dos estudantes"
   ]
  },
  {
   "cell_type": "code",
   "execution_count": 14,
   "metadata": {},
   "outputs": [
    {
     "name": "stdout",
     "output_type": "stream",
     "text": [
      "\n",
      "Primeiras linhas do dataset:\n",
      "   StudentID  Age  StudyTimeWeekly  Absences       GPA  Gender  Ethnicity  \\\n",
      "0       1001   17        19.833723         7  2.929196  Female  Caucasian   \n",
      "1       1002   18        15.408756         0  3.042915    Male  Caucasian   \n",
      "2       1003   15         4.210570        26  0.112602    Male      Asian   \n",
      "3       1004   17        10.028829        14  2.054218  Female  Caucasian   \n",
      "4       1005   17         4.672495        17  1.288061  Female  Caucasian   \n",
      "\n",
      "  ParentalEducation Tutoring ParentalSupport ClubInvolvement Sports Music  \\\n",
      "0      Some College      Yes        Moderate              No     No   Yes   \n",
      "1       High School       No             Low              No     No    No   \n",
      "2        Bachelor's       No        Moderate              No     No    No   \n",
      "3        Bachelor's       No            High             Yes     No    No   \n",
      "4      Some College      Yes            High              No     No    No   \n",
      "\n",
      "  Volunteering GradeClass  \n",
      "0           No          C  \n",
      "1           No          B  \n",
      "2           No          F  \n",
      "3           No          D  \n",
      "4           No          F  \n",
      "\n",
      "Informações do dataset:\n",
      "<class 'pandas.core.frame.DataFrame'>\n",
      "RangeIndex: 6055 entries, 0 to 6054\n",
      "Data columns (total 15 columns):\n",
      " #   Column             Non-Null Count  Dtype  \n",
      "---  ------             --------------  -----  \n",
      " 0   StudentID          6055 non-null   int64  \n",
      " 1   Age                6055 non-null   int64  \n",
      " 2   StudyTimeWeekly    6055 non-null   float64\n",
      " 3   Absences           6055 non-null   int64  \n",
      " 4   GPA                6055 non-null   float64\n",
      " 5   Gender             6055 non-null   object \n",
      " 6   Ethnicity          6055 non-null   object \n",
      " 7   ParentalEducation  5645 non-null   object \n",
      " 8   Tutoring           6055 non-null   object \n",
      " 9   ParentalSupport    5755 non-null   object \n",
      " 10  ClubInvolvement    6055 non-null   object \n",
      " 11  Sports             6055 non-null   object \n",
      " 12  Music              6055 non-null   object \n",
      " 13  Volunteering       6055 non-null   object \n",
      " 14  GradeClass         6055 non-null   object \n",
      "dtypes: float64(2), int64(3), object(10)\n",
      "memory usage: 709.7+ KB\n",
      "None\n"
     ]
    }
   ],
   "source": [
    "import pandas as pd\n",
    "import numpy as np\n",
    "import matplotlib.pyplot as plt\n",
    "import seaborn as sns\n",
    "#plt.style.use('seaborn')\n",
    "#sns.set_palette(\"husl\")\n",
    "try:\n",
    "    df = pd.read_csv('student_performance_dataset.csv')\n",
    "    print(\"\\nPrimeiras linhas do dataset:\")\n",
    "    print(df.head())\n",
    "    print(\"\\nInformações do dataset:\")\n",
    "    print(df.info())\n",
    "except FileNotFoundError:\n",
    "    print(\"Erro: Arquivo não encontrado. Por favor, verifique o caminho do arquivo.\")\n",
    "    exit()\n",
    "df = pd.read_csv('student_performance_dataset.csv')"
   ]
  },
  {
   "cell_type": "markdown",
   "metadata": {},
   "source": [
    "Verificando valores faltantes no dataset\n"
   ]
  },
  {
   "cell_type": "code",
   "execution_count": 15,
   "metadata": {},
   "outputs": [
    {
     "name": "stdout",
     "output_type": "stream",
     "text": [
      "\n",
      "Valores faltantes por coluna:\n",
      "StudentID              0\n",
      "Age                    0\n",
      "StudyTimeWeekly        0\n",
      "Absences               0\n",
      "GPA                    0\n",
      "Gender                 0\n",
      "Ethnicity              0\n",
      "ParentalEducation    410\n",
      "Tutoring               0\n",
      "ParentalSupport      300\n",
      "ClubInvolvement        0\n",
      "Sports                 0\n",
      "Music                  0\n",
      "Volunteering           0\n",
      "GradeClass             0\n",
      "dtype: int64\n"
     ]
    }
   ],
   "source": [
    "print(\"\\nValores faltantes por coluna:\")\n",
    "print(df.isnull().sum())"
   ]
  },
  {
   "cell_type": "markdown",
   "metadata": {},
   "source": [
    "Tratando valores faltantes com a média da coluna"
   ]
  },
  {
   "cell_type": "code",
   "execution_count": 29,
   "metadata": {},
   "outputs": [
    {
     "name": "stdout",
     "output_type": "stream",
     "text": [
      "0       19.833723\n",
      "1       15.408756\n",
      "2        4.210570\n",
      "3       10.028829\n",
      "4        4.672495\n",
      "          ...    \n",
      "6050    11.007294\n",
      "6051    17.469587\n",
      "6052    15.914915\n",
      "6053    14.648020\n",
      "6054     2.356762\n",
      "Name: StudyTimeWeekly, Length: 6055, dtype: float64\n"
     ]
    }
   ],
   "source": [
    "df['StudyTimeWeekly'] = df['StudyTimeWeekly'].fillna(df['StudyTimeWeekly'].mean())\n",
    "print(df['StudyTimeWeekly'])\n"
   ]
  },
  {
   "cell_type": "markdown",
   "metadata": {},
   "source": [
    "Calculando e exibindo a média de notas dos alunos\n"
   ]
  },
  {
   "cell_type": "markdown",
   "metadata": {},
   "source": [
    "Calculando e exibindo estatísticas descritivas\n"
   ]
  },
  {
   "cell_type": "code",
   "execution_count": 28,
   "metadata": {},
   "outputs": [
    {
     "name": "stdout",
     "output_type": "stream",
     "text": [
      "\n",
      "Estatísticas descritivas:\n",
      "         StudentID          Age  StudyTimeWeekly     Absences          GPA\n",
      "count  6055.000000  6055.000000      6055.000000  6055.000000  6055.000000\n",
      "mean   4028.000000    16.246738        10.377286     9.841949     2.436893\n",
      "std    1748.072272     1.033417         5.651446     8.151560     0.909238\n",
      "min    1001.000000    15.000000         0.001057     0.000000     0.000000\n",
      "25%    2514.500000    15.000000         5.561924     3.000000     1.879337\n",
      "50%    4028.000000    16.000000        10.394700     8.000000     2.561965\n",
      "75%    5541.500000    17.000000        15.194024    15.000000     3.165419\n",
      "max    7055.000000    18.000000        19.978094    29.000000     4.000000\n"
     ]
    }
   ],
   "source": [
    "print(\"\\nEstatísticas descritivas:\")\n",
    "print(df.describe())"
   ]
  },
  {
   "cell_type": "markdown",
   "metadata": {},
   "source": [
    "Criando visualização da distribuição das notas\n"
   ]
  },
  {
   "cell_type": "code",
   "execution_count": 19,
   "metadata": {},
   "outputs": [],
   "source": [
    "plt.figure(figsize=(10, 6))\n",
    "#sns.histplot(data=df, x='nota_final', bins=30)\n",
    "plt.title('Distribuição das Notas Finais')\n",
    "plt.xlabel('Nota Final')\n",
    "plt.ylabel('Frequência')\n",
    "plt.savefig('distribuicao_notas.png')\n",
    "plt.close()"
   ]
  },
  {
   "cell_type": "markdown",
   "metadata": {},
   "source": [
    "Criando gráfico de dispersão entre horas de estudo e notas"
   ]
  },
  {
   "cell_type": "code",
   "execution_count": 21,
   "metadata": {},
   "outputs": [],
   "source": [
    "plt.figure(figsize=(10, 6))\n",
    "#sns.scatterplot(data=df, x='horas_estudo', y='nota_final')\n",
    "plt.title('Relação entre Horas de Estudo e Notas Finais')\n",
    "plt.xlabel('Horas de Estudo')\n",
    "plt.ylabel('Nota Final')\n",
    "plt.savefig('horas_vs_notas.png')\n",
    "plt.close()"
   ]
  },
  {
   "cell_type": "markdown",
   "metadata": {},
   "source": [
    "Criando matriz de correlação\n"
   ]
  },
  {
   "cell_type": "code",
   "execution_count": 22,
   "metadata": {},
   "outputs": [],
   "source": [
    "plt.figure(figsize=(12, 8))\n",
    "#sns.heatmap(df.corr(), annot=True, cmap='coolwarm', center=0)\n",
    "plt.title('Matriz de Correlação')\n",
    "plt.savefig('matriz_correlacao.png')\n",
    "plt.close()"
   ]
  },
  {
   "cell_type": "markdown",
   "metadata": {},
   "source": [
    "Calculando e interpretando a correlação entre horas de estudo e notas\n"
   ]
  },
  {
   "cell_type": "code",
   "execution_count": 31,
   "metadata": {},
   "outputs": [
    {
     "name": "stdout",
     "output_type": "stream",
     "text": [
      "\n",
      "A correlação entre horas de estudo e notas é: 0.215\n"
     ]
    }
   ],
   "source": [
    "correlacao = df['StudyTimeWeekly'].corr(df['GPA'])\n",
    "print(f\"\\nA correlação entre horas de estudo e notas é: {correlacao:.3f}\")"
   ]
  },
  {
   "cell_type": "markdown",
   "metadata": {},
   "source": [
    "Interpretando a força da correlação"
   ]
  },
  {
   "cell_type": "code",
   "execution_count": 32,
   "metadata": {},
   "outputs": [
    {
     "name": "stdout",
     "output_type": "stream",
     "text": [
      "Há uma correlação fraca entre horas de estudo e notas.\n"
     ]
    }
   ],
   "source": [
    "if correlacao > 0.7:\n",
    "    print(\"Há uma forte correlação positiva entre horas de estudo e notas.\")\n",
    "elif correlacao > 0.3:\n",
    "    print(\"Há uma correlação moderada positiva entre horas de estudo e notas.\")\n",
    "else:\n",
    "    print(\"Há uma correlação fraca entre horas de estudo e notas.\")"
   ]
  },
  {
   "cell_type": "markdown",
   "metadata": {},
   "source": [
    "Identificando a variável com maior impacto no desempenho final\n"
   ]
  },
  {
   "cell_type": "markdown",
   "metadata": {},
   "source": [
    "Ignorando a correlação com a própria nota"
   ]
  },
  {
   "cell_type": "code",
   "execution_count": 34,
   "metadata": {},
   "outputs": [
    {
     "ename": "ValueError",
     "evalue": "could not convert string to float: 'Female'",
     "output_type": "error",
     "traceback": [
      "\u001b[1;31m---------------------------------------------------------------------------\u001b[0m",
      "\u001b[1;31mValueError\u001b[0m                                Traceback (most recent call last)",
      "Cell \u001b[1;32mIn[34], line 1\u001b[0m\n\u001b[1;32m----> 1\u001b[0m correlacoes \u001b[38;5;241m=\u001b[39m \u001b[43mdf\u001b[49m\u001b[38;5;241;43m.\u001b[39;49m\u001b[43mcorr\u001b[49m\u001b[43m(\u001b[49m\u001b[43m)\u001b[49m[\u001b[38;5;124m'\u001b[39m\u001b[38;5;124mGPA\u001b[39m\u001b[38;5;124m'\u001b[39m]\u001b[38;5;241m.\u001b[39msort_values(ascending\u001b[38;5;241m=\u001b[39m\u001b[38;5;28;01mFalse\u001b[39;00m)\n\u001b[0;32m      2\u001b[0m variavel_maior_impacto \u001b[38;5;241m=\u001b[39m correlacoes\u001b[38;5;241m.\u001b[39mindex[\u001b[38;5;241m1\u001b[39m] \n\u001b[0;32m      3\u001b[0m \u001b[38;5;28mprint\u001b[39m(\u001b[38;5;124mf\u001b[39m\u001b[38;5;124m\"\u001b[39m\u001b[38;5;130;01m\\n\u001b[39;00m\u001b[38;5;124mA variável com maior impacto no desempenho final é: \u001b[39m\u001b[38;5;132;01m{\u001b[39;00mvariavel_maior_impacto\u001b[38;5;132;01m}\u001b[39;00m\u001b[38;5;124m\"\u001b[39m)\n",
      "File \u001b[1;32mc:\\Users\\natan\\AppData\\Local\\Programs\\Python\\Python313\\Lib\\site-packages\\pandas\\core\\frame.py:11049\u001b[0m, in \u001b[0;36mDataFrame.corr\u001b[1;34m(self, method, min_periods, numeric_only)\u001b[0m\n\u001b[0;32m  11047\u001b[0m cols \u001b[38;5;241m=\u001b[39m data\u001b[38;5;241m.\u001b[39mcolumns\n\u001b[0;32m  11048\u001b[0m idx \u001b[38;5;241m=\u001b[39m cols\u001b[38;5;241m.\u001b[39mcopy()\n\u001b[1;32m> 11049\u001b[0m mat \u001b[38;5;241m=\u001b[39m \u001b[43mdata\u001b[49m\u001b[38;5;241;43m.\u001b[39;49m\u001b[43mto_numpy\u001b[49m\u001b[43m(\u001b[49m\u001b[43mdtype\u001b[49m\u001b[38;5;241;43m=\u001b[39;49m\u001b[38;5;28;43mfloat\u001b[39;49m\u001b[43m,\u001b[49m\u001b[43m \u001b[49m\u001b[43mna_value\u001b[49m\u001b[38;5;241;43m=\u001b[39;49m\u001b[43mnp\u001b[49m\u001b[38;5;241;43m.\u001b[39;49m\u001b[43mnan\u001b[49m\u001b[43m,\u001b[49m\u001b[43m \u001b[49m\u001b[43mcopy\u001b[49m\u001b[38;5;241;43m=\u001b[39;49m\u001b[38;5;28;43;01mFalse\u001b[39;49;00m\u001b[43m)\u001b[49m\n\u001b[0;32m  11051\u001b[0m \u001b[38;5;28;01mif\u001b[39;00m method \u001b[38;5;241m==\u001b[39m \u001b[38;5;124m\"\u001b[39m\u001b[38;5;124mpearson\u001b[39m\u001b[38;5;124m\"\u001b[39m:\n\u001b[0;32m  11052\u001b[0m     correl \u001b[38;5;241m=\u001b[39m libalgos\u001b[38;5;241m.\u001b[39mnancorr(mat, minp\u001b[38;5;241m=\u001b[39mmin_periods)\n",
      "File \u001b[1;32mc:\\Users\\natan\\AppData\\Local\\Programs\\Python\\Python313\\Lib\\site-packages\\pandas\\core\\frame.py:1993\u001b[0m, in \u001b[0;36mDataFrame.to_numpy\u001b[1;34m(self, dtype, copy, na_value)\u001b[0m\n\u001b[0;32m   1991\u001b[0m \u001b[38;5;28;01mif\u001b[39;00m dtype \u001b[38;5;129;01mis\u001b[39;00m \u001b[38;5;129;01mnot\u001b[39;00m \u001b[38;5;28;01mNone\u001b[39;00m:\n\u001b[0;32m   1992\u001b[0m     dtype \u001b[38;5;241m=\u001b[39m np\u001b[38;5;241m.\u001b[39mdtype(dtype)\n\u001b[1;32m-> 1993\u001b[0m result \u001b[38;5;241m=\u001b[39m \u001b[38;5;28;43mself\u001b[39;49m\u001b[38;5;241;43m.\u001b[39;49m\u001b[43m_mgr\u001b[49m\u001b[38;5;241;43m.\u001b[39;49m\u001b[43mas_array\u001b[49m\u001b[43m(\u001b[49m\u001b[43mdtype\u001b[49m\u001b[38;5;241;43m=\u001b[39;49m\u001b[43mdtype\u001b[49m\u001b[43m,\u001b[49m\u001b[43m \u001b[49m\u001b[43mcopy\u001b[49m\u001b[38;5;241;43m=\u001b[39;49m\u001b[43mcopy\u001b[49m\u001b[43m,\u001b[49m\u001b[43m \u001b[49m\u001b[43mna_value\u001b[49m\u001b[38;5;241;43m=\u001b[39;49m\u001b[43mna_value\u001b[49m\u001b[43m)\u001b[49m\n\u001b[0;32m   1994\u001b[0m \u001b[38;5;28;01mif\u001b[39;00m result\u001b[38;5;241m.\u001b[39mdtype \u001b[38;5;129;01mis\u001b[39;00m \u001b[38;5;129;01mnot\u001b[39;00m dtype:\n\u001b[0;32m   1995\u001b[0m     result \u001b[38;5;241m=\u001b[39m np\u001b[38;5;241m.\u001b[39masarray(result, dtype\u001b[38;5;241m=\u001b[39mdtype)\n",
      "File \u001b[1;32mc:\\Users\\natan\\AppData\\Local\\Programs\\Python\\Python313\\Lib\\site-packages\\pandas\\core\\internals\\managers.py:1694\u001b[0m, in \u001b[0;36mBlockManager.as_array\u001b[1;34m(self, dtype, copy, na_value)\u001b[0m\n\u001b[0;32m   1692\u001b[0m         arr\u001b[38;5;241m.\u001b[39mflags\u001b[38;5;241m.\u001b[39mwriteable \u001b[38;5;241m=\u001b[39m \u001b[38;5;28;01mFalse\u001b[39;00m\n\u001b[0;32m   1693\u001b[0m \u001b[38;5;28;01melse\u001b[39;00m:\n\u001b[1;32m-> 1694\u001b[0m     arr \u001b[38;5;241m=\u001b[39m \u001b[38;5;28;43mself\u001b[39;49m\u001b[38;5;241;43m.\u001b[39;49m\u001b[43m_interleave\u001b[49m\u001b[43m(\u001b[49m\u001b[43mdtype\u001b[49m\u001b[38;5;241;43m=\u001b[39;49m\u001b[43mdtype\u001b[49m\u001b[43m,\u001b[49m\u001b[43m \u001b[49m\u001b[43mna_value\u001b[49m\u001b[38;5;241;43m=\u001b[39;49m\u001b[43mna_value\u001b[49m\u001b[43m)\u001b[49m\n\u001b[0;32m   1695\u001b[0m     \u001b[38;5;66;03m# The underlying data was copied within _interleave, so no need\u001b[39;00m\n\u001b[0;32m   1696\u001b[0m     \u001b[38;5;66;03m# to further copy if copy=True or setting na_value\u001b[39;00m\n\u001b[0;32m   1698\u001b[0m \u001b[38;5;28;01mif\u001b[39;00m na_value \u001b[38;5;129;01mis\u001b[39;00m lib\u001b[38;5;241m.\u001b[39mno_default:\n",
      "File \u001b[1;32mc:\\Users\\natan\\AppData\\Local\\Programs\\Python\\Python313\\Lib\\site-packages\\pandas\\core\\internals\\managers.py:1753\u001b[0m, in \u001b[0;36mBlockManager._interleave\u001b[1;34m(self, dtype, na_value)\u001b[0m\n\u001b[0;32m   1751\u001b[0m     \u001b[38;5;28;01melse\u001b[39;00m:\n\u001b[0;32m   1752\u001b[0m         arr \u001b[38;5;241m=\u001b[39m blk\u001b[38;5;241m.\u001b[39mget_values(dtype)\n\u001b[1;32m-> 1753\u001b[0m     \u001b[43mresult\u001b[49m\u001b[43m[\u001b[49m\u001b[43mrl\u001b[49m\u001b[38;5;241;43m.\u001b[39;49m\u001b[43mindexer\u001b[49m\u001b[43m]\u001b[49m \u001b[38;5;241m=\u001b[39m arr\n\u001b[0;32m   1754\u001b[0m     itemmask[rl\u001b[38;5;241m.\u001b[39mindexer] \u001b[38;5;241m=\u001b[39m \u001b[38;5;241m1\u001b[39m\n\u001b[0;32m   1756\u001b[0m \u001b[38;5;28;01mif\u001b[39;00m \u001b[38;5;129;01mnot\u001b[39;00m itemmask\u001b[38;5;241m.\u001b[39mall():\n",
      "\u001b[1;31mValueError\u001b[0m: could not convert string to float: 'Female'"
     ]
    }
   ],
   "source": [
    "correlacoes = df.corr()['GPA'].sort_values(ascending=False)\n",
    "variavel_maior_impacto = correlacoes.index[1] \n",
    "print(f\"\\nA variável com maior impacto no desempenho final é: {variavel_maior_impacto}\")\n",
    "print(\"\\nCorrelações com a nota final:\")\n",
    "print(correlacoes) "
   ]
  }
 ],
 "metadata": {
  "kernelspec": {
   "display_name": "Python 3",
   "language": "python",
   "name": "python3"
  },
  "language_info": {
   "codemirror_mode": {
    "name": "ipython",
    "version": 3
   },
   "file_extension": ".py",
   "mimetype": "text/x-python",
   "name": "python",
   "nbconvert_exporter": "python",
   "pygments_lexer": "ipython3",
   "version": "3.13.2"
  }
 },
 "nbformat": 4,
 "nbformat_minor": 2
}
